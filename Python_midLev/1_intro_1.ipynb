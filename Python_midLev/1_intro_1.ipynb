{
  "nbformat": 4,
  "nbformat_minor": 0,
  "metadata": {
    "colab": {
      "name": "1.intro-1.ipynb",
      "provenance": [],
      "collapsed_sections": [],
      "authorship_tag": "ABX9TyO+EFK57ldEVSZXmv/DFdNV",
      "include_colab_link": true
    },
    "kernelspec": {
      "name": "python3",
      "display_name": "Python 3"
    },
    "language_info": {
      "name": "python"
    }
  },
  "cells": [
    {
      "cell_type": "markdown",
      "metadata": {
        "id": "view-in-github",
        "colab_type": "text"
      },
      "source": [
        "<a href=\"https://colab.research.google.com/github/ssumannb/Python_midLev/blob/main/1_intro_1.ipynb\" target=\"_parent\"><img src=\"https://colab.research.google.com/assets/colab-badge.svg\" alt=\"Open In Colab\"/></a>"
      ]
    },
    {
      "cell_type": "markdown",
      "source": [
        "#### 파이썬 중급 과정  \n",
        "* 파이썬 고급 문법 학습 후 파이썬을 심도 있게 프로그래밍 가능\n",
        "* 중요파트 : Generator, Iterator, venv, Object, Lambda, Coroutine ...\n",
        "* 오픈소스 커스터마이징 시 코드 읽기가 수월할 수 있도록 함"
      ],
      "metadata": {
        "id": "T5gIov8oMnHi"
      }
    },
    {
      "cell_type": "markdown",
      "source": [
        "#### 기본 환경 설정\n",
        "개발 환경 설정 과정\n",
        "1. 파이썬 설치\n",
        "2. 에디터 설치 (Pycharm, Atom, VSCode, ...)\n",
        "3. 가상환경 설정 (Venv)\n",
        "-- atom 사용자의 경우만 진행  \n",
        "4. 에디터 플러그인 설치 (test, auto, script)\n",
        "5. 테스트 패키지 설치 (Pendulum, pytest)\n",
        "6. 테스트 코드 작성 및 실행\n",
        "\n",
        "**맥의 경우 기본적으로 python2가 설치되어있음. python3로업그레이드 할 수도 있지만, 새로 python3를 설치하는 것을 권장함"
      ],
      "metadata": {
        "id": "oEFg8k3tORzS"
      }
    },
    {
      "cell_type": "markdown",
      "source": [
        "개발 가상 환경(Virtual Env)  \n",
        "* 여러 프로젝트 개발을 진행할 수 있도록 환경 설정을 할 수 있도록 함"
      ],
      "metadata": {
        "id": "h_5z70ymQiVM"
      }
    },
    {
      "cell_type": "code",
      "source": [
        "#파이썬 가상 환경 생성 (in command) 및 활성화\n",
        " ! python -m venv p_study   # 생성\n",
        " ! cd p_study/Scripts       # 환경이 생성된 폴더로 이동 (C드라이브에 있음)\n",
        " ! activate                 # 활성화\n",
        " ! deactivate.bat           # 비활성화"
      ],
      "metadata": {
        "id": "RlX1UZ-xNvz2"
      },
      "execution_count": null,
      "outputs": []
    },
    {
      "cell_type": "code",
      "execution_count": null,
      "metadata": {
        "id": "LCh7CxTHMmMi"
      },
      "outputs": [],
      "source": [
        "# 필요 패키지 설치 (위치: 가상환경 폴더/Lib/site-package)\n",
        "!pip list \n",
        "!pip install pendulumn # python datetimes made easy.\n",
        "!pip install pytest    # atom IDE이기 때문에 설치하는 패키지\n",
        "!pip install "
      ]
    },
    {
      "cell_type": "markdown",
      "source": [
        "VSCode  \n",
        "exension-python 설치  \n",
        "\n",
        "python interpreter 연결\n",
        "1. veiw > Command palatte (Ctrl+Shift+P)\n",
        "2. "
      ],
      "metadata": {
        "id": "sLRXB_ouUJoo"
      }
    },
    {
      "cell_type": "code",
      "source": [
        ""
      ],
      "metadata": {
        "id": "bndjD0RVUToP"
      },
      "execution_count": null,
      "outputs": []
    }
  ]
}