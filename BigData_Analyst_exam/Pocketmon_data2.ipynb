{
  "nbformat": 4,
  "nbformat_minor": 0,
  "metadata": {
    "colab": {
      "name": "Pocketmon_data2.ipynb",
      "provenance": [],
      "authorship_tag": "ABX9TyNpcBUWAxOCO08gsEhhdQ1E",
      "include_colab_link": true
    },
    "kernelspec": {
      "name": "python3",
      "display_name": "Python 3"
    },
    "language_info": {
      "name": "python"
    }
  },
  "cells": [
    {
      "cell_type": "markdown",
      "metadata": {
        "id": "view-in-github",
        "colab_type": "text"
      },
      "source": [
        "<a href=\"https://colab.research.google.com/github/ssumannb/BigData_Analyst_exam/blob/main/Pocketmon_data2.ipynb\" target=\"_parent\"><img src=\"https://colab.research.google.com/assets/colab-badge.svg\" alt=\"Open In Colab\"/></a>"
      ]
    },
    {
      "cell_type": "markdown",
      "source": [
        "[빅분기실기1유형]\n",
        "16주차 예상문제 (실기1유형 10문제)"
      ],
      "metadata": {
        "id": "f0jSFE-dE75F"
      }
    },
    {
      "cell_type": "code",
      "execution_count": null,
      "metadata": {
        "id": "xDwAlTVcDK0K"
      },
      "outputs": [],
      "source": [
        "import pandas as pd\n",
        "df_org = pd.read_csv('https://raw.githubusercontent.com/Datamanim/datarepo/main/pok/Pokemon.csv') "
      ]
    },
    {
      "cell_type": "markdown",
      "source": [
        "Q1.  Legendary 컬럼은 전설포켓몬 유무를 나타낸다. 전설포켓몬과 그렇지 않은 포켓몬들의 HP평균의 차이를 구하여라   \n",
        "A1. 25.55614"
      ],
      "metadata": {
        "id": "mSwz2NPOEG09"
      }
    },
    {
      "cell_type": "code",
      "source": [
        "df = df_org.copy()\n",
        "\n",
        "hp_mean = df['HP'].groupby(df['Legendary']).mean()\n",
        "\n",
        "print(abs(hp_mean[0]-hp_mean[1]))"
      ],
      "metadata": {
        "colab": {
          "base_uri": "https://localhost:8080/"
        },
        "id": "6e8JXkLpEFSC",
        "outputId": "044edaa4-ab08-4829-8a9b-2d6f6a151d9d"
      },
      "execution_count": null,
      "outputs": [
        {
          "output_type": "stream",
          "name": "stdout",
          "text": [
            "25.55614861329147\n"
          ]
        }
      ]
    },
    {
      "cell_type": "markdown",
      "source": [
        "Q2. Type 1은 주속성 Type 2 는 부속성을 나타낸다. 가장 많은 부속성 종류는 무엇인가?  \n",
        "A2. Flying"
      ],
      "metadata": {
        "id": "sIZFgOX-ELbm"
      }
    },
    {
      "cell_type": "code",
      "source": [
        "df = df_org.copy()\n",
        "\n",
        "type2 = df['Type 2'].value_counts().sort_values(ascending=False).index\n",
        "print(type2[0])"
      ],
      "metadata": {
        "colab": {
          "base_uri": "https://localhost:8080/"
        },
        "id": "jcLHR6K2EK9K",
        "outputId": "86a0c081-83ab-4113-cfc9-862d34c25b23"
      },
      "execution_count": null,
      "outputs": [
        {
          "output_type": "stream",
          "name": "stdout",
          "text": [
            "Flying\n"
          ]
        }
      ]
    },
    {
      "cell_type": "markdown",
      "source": [
        "Q3. 가장 많은 Type 1 의 종의 평균 Attack 을 평균 Defense로 나눈값은?  \n",
        "A3. 1.016"
      ],
      "metadata": {
        "id": "IaDTqrFgEP4T"
      }
    },
    {
      "cell_type": "code",
      "source": [
        "df = df_org.copy()\n",
        "\n",
        "type1_best = df['Type 1'].value_counts().sort_values(ascending=False).index[0]\n",
        "attack_mean = df.loc[df['Type 1'] == type1_best, 'Attack'].mean()\n",
        "defense_mean = df.loc[df['Type 1'] == type1_best, 'Defense'].mean()\n",
        "\n",
        "print(attack_mean / defense_mean)"
      ],
      "metadata": {
        "colab": {
          "base_uri": "https://localhost:8080/"
        },
        "id": "KPxmABE9EXzp",
        "outputId": "ff06e8b5-06f6-4158-d1d2-ac2e13d2ac1b"
      },
      "execution_count": null,
      "outputs": [
        {
          "output_type": "stream",
          "name": "stdout",
          "text": [
            "1.0165238678090576\n"
          ]
        }
      ]
    },
    {
      "cell_type": "markdown",
      "source": [
        "Q4. 포켓몬 세대(Generation) 중 가장많은 Legendary를 보유한 세대는 몇세대인가?  \n",
        "A4. 3"
      ],
      "metadata": {
        "id": "1n5WhQkZEUdW"
      }
    },
    {
      "cell_type": "code",
      "source": [
        "df = df_org.copy()\n",
        "\n",
        "gen = df['Legendary'].groupby(df['Generation']).sum().sort_values(ascending=False)\n",
        "print(gen.index[0])"
      ],
      "metadata": {
        "colab": {
          "base_uri": "https://localhost:8080/"
        },
        "id": "XjqokaEQE1kI",
        "outputId": "3e3b86c7-bfbe-4fa9-d179-ee5d033441a6"
      },
      "execution_count": null,
      "outputs": [
        {
          "output_type": "stream",
          "name": "stdout",
          "text": [
            "3\n"
          ]
        }
      ]
    },
    {
      "cell_type": "markdown",
      "source": [
        "Q5. 'HP', 'Attack', 'Defense', 'Sp. Atk', 'Sp. Def', 'Speed' 간의 상관 계수중 가장 절댓값이 큰 두 변수와 그 값을 구하여라   \n",
        "A5. 0.51 Sp. Def - Defense  "
      ],
      "metadata": {
        "id": "x0PGE73mEYCK"
      }
    },
    {
      "cell_type": "code",
      "source": [
        "df = df_org.copy()\n",
        "\n",
        "# unstack : 데이터를 세로로 쌓는다. 시리즈 형식으로 반환한다. \n",
        "# reset_index = 인덱스를 Dataframe의 열로 전송하고, 새로운 단순한 정수 인덱스를 세팅한다. set_index 기능을 역으로 수행\n",
        "r = df[['HP', 'Attack', 'Defense', 'Sp. Atk', 'Sp. Def', 'Speed']].corr().unstack().reset_index().rename(columns={0:'r'})\n",
        "max = r[r['r']!= 1].sort_values(by='r', ascending=False).iloc[0]\n",
        "print(max['r'], max['level_0'], max['level_1'])\n",
        "\n",
        "# unstack() => return series\n",
        "\n"
      ],
      "metadata": {
        "id": "oAHZptT7E15Y",
        "colab": {
          "base_uri": "https://localhost:8080/"
        },
        "outputId": "c608ad8d-858c-478e-8069-d3c0f56c3478"
      },
      "execution_count": 35,
      "outputs": [
        {
          "output_type": "stream",
          "name": "stdout",
          "text": [
            "0.5107465890885571 Sp. Def Defense\n"
          ]
        }
      ]
    },
    {
      "cell_type": "markdown",
      "source": [
        "Q6. 각 Generation의 Attack으로 오름차순 정렬시 상위 3개 데이터들(18개)의 Attack의 전체 평균을 구하여라  \n",
        "A6. 19.5"
      ],
      "metadata": {
        "id": "Cw9tA4qaEeWy"
      }
    },
    {
      "cell_type": "code",
      "source": [
        ""
      ],
      "metadata": {
        "id": "Dcw10bMAE2Ps"
      },
      "execution_count": null,
      "outputs": []
    },
    {
      "cell_type": "markdown",
      "source": [
        "Q7. 각 Generation의 Attack으로 내림차순 정렬시 상위 5개 데이터들(30개)의 Attack의 전체 평균을 구하여라​  \n",
        "A7. 157.23"
      ],
      "metadata": {
        "id": "hPqbu3cnEhdS"
      }
    },
    {
      "cell_type": "code",
      "source": [
        ""
      ],
      "metadata": {
        "id": "N16_koBZE2mx"
      },
      "execution_count": null,
      "outputs": []
    },
    {
      "cell_type": "markdown",
      "source": [
        "Q8. 가장 흔하게 발견되는 (Type1 , Type2) 의 쌍은 무엇인가?  \n",
        "A8. Normal  Flying "
      ],
      "metadata": {
        "id": "10pHi4nWElVO"
      }
    },
    {
      "cell_type": "code",
      "source": [
        ""
      ],
      "metadata": {
        "id": "E_IwlBchE23b"
      },
      "execution_count": null,
      "outputs": []
    },
    {
      "cell_type": "markdown",
      "source": [
        "Q9. 한번씩만 존재하는 (Type1 , Type2)의 쌍의 갯수는 몇개인가?  \n",
        "A9. 39"
      ],
      "metadata": {
        "id": "qZbv1gwGEomX"
      }
    },
    {
      "cell_type": "code",
      "source": [
        ""
      ],
      "metadata": {
        "id": "d-4bJCgwE3Qg"
      },
      "execution_count": null,
      "outputs": []
    },
    {
      "cell_type": "markdown",
      "source": [
        "Q10.한번씩만 존재하는 (Type1 , Type2)의 쌍을 각 세대(Generation)은 각각 몇개씩 가지고 있는가?  \n",
        "A10.   \n",
        "![image.png](data:image/png;base64,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)"
      ],
      "metadata": {
        "id": "q37CfiyIEtQM"
      }
    },
    {
      "cell_type": "code",
      "source": [
        ""
      ],
      "metadata": {
        "id": "nt0UuuMFExXT"
      },
      "execution_count": null,
      "outputs": []
    }
  ]
}