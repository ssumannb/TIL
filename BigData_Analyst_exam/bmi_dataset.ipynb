{
  "nbformat": 4,
  "nbformat_minor": 0,
  "metadata": {
    "colab": {
      "name": "bmi_dataset.ipynb",
      "provenance": [],
      "authorship_tag": "ABX9TyMbhBhUmBEJBLNrzbe7AVZf",
      "include_colab_link": true
    },
    "kernelspec": {
      "name": "python3",
      "display_name": "Python 3"
    },
    "language_info": {
      "name": "python"
    }
  },
  "cells": [
    {
      "cell_type": "markdown",
      "metadata": {
        "id": "view-in-github",
        "colab_type": "text"
      },
      "source": [
        "<a href=\"https://colab.research.google.com/github/ssumannb/BigData_Analyst_exam/blob/main/bmi_dataset.ipynb\" target=\"_parent\"><img src=\"https://colab.research.google.com/assets/colab-badge.svg\" alt=\"Open In Colab\"/></a>"
      ]
    },
    {
      "cell_type": "markdown",
      "source": [
        "[빅분기실기1유형]  \n",
        "17주차 예상문제 (실기1유형 10문제)"
      ],
      "metadata": {
        "id": "AQQtsVQiZMiH"
      }
    },
    {
      "cell_type": "code",
      "execution_count": 1,
      "metadata": {
        "colab": {
          "base_uri": "https://localhost:8080/",
          "height": 285
        },
        "id": "jG8y-LD5ZAM8",
        "outputId": "4a430bf0-52df-4fcc-d0ef-4a7ec1a31de6"
      },
      "outputs": [
        {
          "output_type": "execute_result",
          "data": {
            "text/plain": [
              "   측정나이 측정회원성별  신장 : cm  체중 : kg  체지방율 : %  이완기혈압(최저) : mmHg  \\\n",
              "0  59.0      M    175.0     70.6      19.2              91.0   \n",
              "1  40.0      F    161.4     45.8      21.7              62.0   \n",
              "2  27.0      M    176.6     84.8      19.2              87.0   \n",
              "3  38.0      M    167.6     76.7      24.7              63.0   \n",
              "4  21.0      M    165.2     66.2      21.5              83.0   \n",
              "\n",
              "   수축기혈압(최고) : mmHg  악력D : kg  앉아윗몸앞으로굽히기 : cm  교차윗몸일으키기 : 회  제자리 멀리뛰기 : cm 등급  \n",
              "0             150.0      40.6             12.2          30.0          179.0  C  \n",
              "1             119.0      22.1             16.0          32.0          165.0  B  \n",
              "2             153.0      45.9             13.2          61.0          216.0  B  \n",
              "3             132.0      43.6             16.0          45.0          231.0  A  \n",
              "4             106.0      33.5             10.6          46.0          198.0  C  "
            ],
            "text/html": [
              "\n",
              "  <div id=\"df-8bd87a91-d83d-4fb2-ab02-94a45d3ebd36\">\n",
              "    <div class=\"colab-df-container\">\n",
              "      <div>\n",
              "<style scoped>\n",
              "    .dataframe tbody tr th:only-of-type {\n",
              "        vertical-align: middle;\n",
              "    }\n",
              "\n",
              "    .dataframe tbody tr th {\n",
              "        vertical-align: top;\n",
              "    }\n",
              "\n",
              "    .dataframe thead th {\n",
              "        text-align: right;\n",
              "    }\n",
              "</style>\n",
              "<table border=\"1\" class=\"dataframe\">\n",
              "  <thead>\n",
              "    <tr style=\"text-align: right;\">\n",
              "      <th></th>\n",
              "      <th>측정나이</th>\n",
              "      <th>측정회원성별</th>\n",
              "      <th>신장 : cm</th>\n",
              "      <th>체중 : kg</th>\n",
              "      <th>체지방율 : %</th>\n",
              "      <th>이완기혈압(최저) : mmHg</th>\n",
              "      <th>수축기혈압(최고) : mmHg</th>\n",
              "      <th>악력D : kg</th>\n",
              "      <th>앉아윗몸앞으로굽히기 : cm</th>\n",
              "      <th>교차윗몸일으키기 : 회</th>\n",
              "      <th>제자리 멀리뛰기 : cm</th>\n",
              "      <th>등급</th>\n",
              "    </tr>\n",
              "  </thead>\n",
              "  <tbody>\n",
              "    <tr>\n",
              "      <th>0</th>\n",
              "      <td>59.0</td>\n",
              "      <td>M</td>\n",
              "      <td>175.0</td>\n",
              "      <td>70.6</td>\n",
              "      <td>19.2</td>\n",
              "      <td>91.0</td>\n",
              "      <td>150.0</td>\n",
              "      <td>40.6</td>\n",
              "      <td>12.2</td>\n",
              "      <td>30.0</td>\n",
              "      <td>179.0</td>\n",
              "      <td>C</td>\n",
              "    </tr>\n",
              "    <tr>\n",
              "      <th>1</th>\n",
              "      <td>40.0</td>\n",
              "      <td>F</td>\n",
              "      <td>161.4</td>\n",
              "      <td>45.8</td>\n",
              "      <td>21.7</td>\n",
              "      <td>62.0</td>\n",
              "      <td>119.0</td>\n",
              "      <td>22.1</td>\n",
              "      <td>16.0</td>\n",
              "      <td>32.0</td>\n",
              "      <td>165.0</td>\n",
              "      <td>B</td>\n",
              "    </tr>\n",
              "    <tr>\n",
              "      <th>2</th>\n",
              "      <td>27.0</td>\n",
              "      <td>M</td>\n",
              "      <td>176.6</td>\n",
              "      <td>84.8</td>\n",
              "      <td>19.2</td>\n",
              "      <td>87.0</td>\n",
              "      <td>153.0</td>\n",
              "      <td>45.9</td>\n",
              "      <td>13.2</td>\n",
              "      <td>61.0</td>\n",
              "      <td>216.0</td>\n",
              "      <td>B</td>\n",
              "    </tr>\n",
              "    <tr>\n",
              "      <th>3</th>\n",
              "      <td>38.0</td>\n",
              "      <td>M</td>\n",
              "      <td>167.6</td>\n",
              "      <td>76.7</td>\n",
              "      <td>24.7</td>\n",
              "      <td>63.0</td>\n",
              "      <td>132.0</td>\n",
              "      <td>43.6</td>\n",
              "      <td>16.0</td>\n",
              "      <td>45.0</td>\n",
              "      <td>231.0</td>\n",
              "      <td>A</td>\n",
              "    </tr>\n",
              "    <tr>\n",
              "      <th>4</th>\n",
              "      <td>21.0</td>\n",
              "      <td>M</td>\n",
              "      <td>165.2</td>\n",
              "      <td>66.2</td>\n",
              "      <td>21.5</td>\n",
              "      <td>83.0</td>\n",
              "      <td>106.0</td>\n",
              "      <td>33.5</td>\n",
              "      <td>10.6</td>\n",
              "      <td>46.0</td>\n",
              "      <td>198.0</td>\n",
              "      <td>C</td>\n",
              "    </tr>\n",
              "  </tbody>\n",
              "</table>\n",
              "</div>\n",
              "      <button class=\"colab-df-convert\" onclick=\"convertToInteractive('df-8bd87a91-d83d-4fb2-ab02-94a45d3ebd36')\"\n",
              "              title=\"Convert this dataframe to an interactive table.\"\n",
              "              style=\"display:none;\">\n",
              "        \n",
              "  <svg xmlns=\"http://www.w3.org/2000/svg\" height=\"24px\"viewBox=\"0 0 24 24\"\n",
              "       width=\"24px\">\n",
              "    <path d=\"M0 0h24v24H0V0z\" fill=\"none\"/>\n",
              "    <path d=\"M18.56 5.44l.94 2.06.94-2.06 2.06-.94-2.06-.94-.94-2.06-.94 2.06-2.06.94zm-11 1L8.5 8.5l.94-2.06 2.06-.94-2.06-.94L8.5 2.5l-.94 2.06-2.06.94zm10 10l.94 2.06.94-2.06 2.06-.94-2.06-.94-.94-2.06-.94 2.06-2.06.94z\"/><path d=\"M17.41 7.96l-1.37-1.37c-.4-.4-.92-.59-1.43-.59-.52 0-1.04.2-1.43.59L10.3 9.45l-7.72 7.72c-.78.78-.78 2.05 0 2.83L4 21.41c.39.39.9.59 1.41.59.51 0 1.02-.2 1.41-.59l7.78-7.78 2.81-2.81c.8-.78.8-2.07 0-2.86zM5.41 20L4 18.59l7.72-7.72 1.47 1.35L5.41 20z\"/>\n",
              "  </svg>\n",
              "      </button>\n",
              "      \n",
              "  <style>\n",
              "    .colab-df-container {\n",
              "      display:flex;\n",
              "      flex-wrap:wrap;\n",
              "      gap: 12px;\n",
              "    }\n",
              "\n",
              "    .colab-df-convert {\n",
              "      background-color: #E8F0FE;\n",
              "      border: none;\n",
              "      border-radius: 50%;\n",
              "      cursor: pointer;\n",
              "      display: none;\n",
              "      fill: #1967D2;\n",
              "      height: 32px;\n",
              "      padding: 0 0 0 0;\n",
              "      width: 32px;\n",
              "    }\n",
              "\n",
              "    .colab-df-convert:hover {\n",
              "      background-color: #E2EBFA;\n",
              "      box-shadow: 0px 1px 2px rgba(60, 64, 67, 0.3), 0px 1px 3px 1px rgba(60, 64, 67, 0.15);\n",
              "      fill: #174EA6;\n",
              "    }\n",
              "\n",
              "    [theme=dark] .colab-df-convert {\n",
              "      background-color: #3B4455;\n",
              "      fill: #D2E3FC;\n",
              "    }\n",
              "\n",
              "    [theme=dark] .colab-df-convert:hover {\n",
              "      background-color: #434B5C;\n",
              "      box-shadow: 0px 1px 3px 1px rgba(0, 0, 0, 0.15);\n",
              "      filter: drop-shadow(0px 1px 2px rgba(0, 0, 0, 0.3));\n",
              "      fill: #FFFFFF;\n",
              "    }\n",
              "  </style>\n",
              "\n",
              "      <script>\n",
              "        const buttonEl =\n",
              "          document.querySelector('#df-8bd87a91-d83d-4fb2-ab02-94a45d3ebd36 button.colab-df-convert');\n",
              "        buttonEl.style.display =\n",
              "          google.colab.kernel.accessAllowed ? 'block' : 'none';\n",
              "\n",
              "        async function convertToInteractive(key) {\n",
              "          const element = document.querySelector('#df-8bd87a91-d83d-4fb2-ab02-94a45d3ebd36');\n",
              "          const dataTable =\n",
              "            await google.colab.kernel.invokeFunction('convertToInteractive',\n",
              "                                                     [key], {});\n",
              "          if (!dataTable) return;\n",
              "\n",
              "          const docLinkHtml = 'Like what you see? Visit the ' +\n",
              "            '<a target=\"_blank\" href=https://colab.research.google.com/notebooks/data_table.ipynb>data table notebook</a>'\n",
              "            + ' to learn more about interactive tables.';\n",
              "          element.innerHTML = '';\n",
              "          dataTable['output_type'] = 'display_data';\n",
              "          await google.colab.output.renderOutput(dataTable, element);\n",
              "          const docLink = document.createElement('div');\n",
              "          docLink.innerHTML = docLinkHtml;\n",
              "          element.appendChild(docLink);\n",
              "        }\n",
              "      </script>\n",
              "    </div>\n",
              "  </div>\n",
              "  "
            ]
          },
          "metadata": {},
          "execution_count": 1
        }
      ],
      "source": [
        "import pandas as pd\n",
        "df_org =pd.read_csv('https://raw.githubusercontent.com/Datamanim/datarepo/main/body/body.csv')\n",
        "df_org.head()"
      ]
    },
    {
      "cell_type": "markdown",
      "source": [
        "Q1.  전체데이터의 수축기혈압(최고) - 이완기혈압(최저)의 평균을 구하여라  \n",
        "A1. 52.195"
      ],
      "metadata": {
        "id": "oZlFfg-9ZVOx"
      }
    },
    {
      "cell_type": "code",
      "source": [
        "df = df_org.copy()\n",
        "df['diff'] = df['수축기혈압(최고) : mmHg'] - df['이완기혈압(최저) : mmHg']\n",
        "\n",
        "print(df['diff'].mean())"
      ],
      "metadata": {
        "colab": {
          "base_uri": "https://localhost:8080/"
        },
        "id": "05qeW9V3ZQJ0",
        "outputId": "8a8e7e6e-a335-4e35-f37f-62d7b657b609"
      },
      "execution_count": null,
      "outputs": [
        {
          "output_type": "stream",
          "name": "stdout",
          "text": [
            "52.19539414750672\n"
          ]
        }
      ]
    },
    {
      "cell_type": "markdown",
      "source": [
        "Q2. 50~59세의 신장평균을 구하여라  \n",
        "A2. 164.074"
      ],
      "metadata": {
        "id": "QEWn83yXZaJ9"
      }
    },
    {
      "cell_type": "code",
      "source": [
        "df = df_org.copy()\n",
        "\n",
        "result = df.loc[(df['측정나이'] < 60) & (df['측정나이'] > 49), '신장 : cm'].mean()\n",
        "print(result)"
      ],
      "metadata": {
        "colab": {
          "base_uri": "https://localhost:8080/"
        },
        "id": "5oSK_tyXa4sP",
        "outputId": "180247f3-c6db-4067-f75c-049581ac6b37"
      },
      "execution_count": null,
      "outputs": [
        {
          "output_type": "stream",
          "name": "stdout",
          "text": [
            "164.07490107405314\n"
          ]
        }
      ]
    },
    {
      "cell_type": "markdown",
      "source": [
        "Q3. 연령대 (20~29 : 20대 ...) 별  인원수를 구하여라  \n",
        "![image.png](data:image/png;base64,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)"
      ],
      "metadata": {
        "id": "Qr7Oce_AZd53"
      }
    },
    {
      "cell_type": "code",
      "source": [
        "df['gen'] = df['측정나이'] // 10 * 10\n",
        "result = df['gen'].value_counts()\n",
        "print(result)"
      ],
      "metadata": {
        "id": "wxvuVw9BZhQF",
        "colab": {
          "base_uri": "https://localhost:8080/"
        },
        "outputId": "55f6933f-3cba-4dcb-e0b9-485a228f6d76"
      },
      "execution_count": 12,
      "outputs": [
        {
          "output_type": "stream",
          "name": "stdout",
          "text": [
            "20.0    5831\n",
            "30.0    2660\n",
            "40.0    1801\n",
            "50.0    1769\n",
            "60.0    1335\n",
            "Name: gen, dtype: int64\n"
          ]
        }
      ]
    },
    {
      "cell_type": "markdown",
      "source": [
        "Q4.  연령대 (20~29 : 20대 ...) 별 등급의 숫자를 데이터 프레임으로 표현하라  \n",
        "![image.png](data:image/png;base64,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)"
      ],
      "metadata": {
        "id": "sr2d1roUZjwp"
      }
    },
    {
      "cell_type": "code",
      "source": [
        "df = df_org.copy()\n",
        "\n",
        "df['gen'] = df['측정나이'] // 10 * 10\n",
        "grade = df.groupby(['gen', '등급'])\n",
        "print(grade.size())"
      ],
      "metadata": {
        "colab": {
          "base_uri": "https://localhost:8080/"
        },
        "id": "nCGI9Ri8-A85",
        "outputId": "a7dabe86-5087-4849-dc47-8fae59ac71ce"
      },
      "execution_count": 17,
      "outputs": [
        {
          "output_type": "stream",
          "name": "stdout",
          "text": [
            "gen   등급\n",
            "20.0  A     1585\n",
            "      B     1443\n",
            "      C     1455\n",
            "      D     1348\n",
            "30.0  A      743\n",
            "      B      697\n",
            "      C      626\n",
            "      D      594\n",
            "40.0  A      386\n",
            "      B      428\n",
            "      C      455\n",
            "      D      532\n",
            "50.0  A      321\n",
            "      B      410\n",
            "      C      474\n",
            "      D      564\n",
            "60.0  A      314\n",
            "      B      371\n",
            "      C      339\n",
            "      D      311\n",
            "dtype: int64\n"
          ]
        }
      ]
    },
    {
      "cell_type": "markdown",
      "source": [
        "Q5. 남성 중 A등급과 D등급의 체지방률 평균의 차이(큰 값에서 작은 값의 차)를 구하여라  \n",
        "A5. 7.93208"
      ],
      "metadata": {
        "id": "owFS16xCZqiH"
      }
    },
    {
      "cell_type": "code",
      "source": [
        "df = df_org.copy()\n",
        "\n",
        "men_a = df.loc[(df['측정회원성별'] == 'M') & (df['등급'] =='A'), '체지방율 : %'].mean()\n",
        "men_d = df.loc[(df['측정회원성별'] == 'M') & (df['등급'] =='D'),  '체지방율 : %'].mean()\n",
        "\n",
        "print(abs(men_a - men_d))"
      ],
      "metadata": {
        "id": "fy5cZvjRZpGK",
        "colab": {
          "base_uri": "https://localhost:8080/"
        },
        "outputId": "db180276-4345-433c-df92-47425e9d483d"
      },
      "execution_count": 20,
      "outputs": [
        {
          "output_type": "stream",
          "name": "stdout",
          "text": [
            "7.932086486137521\n"
          ]
        }
      ]
    },
    {
      "cell_type": "markdown",
      "source": [
        "Q6. 여성 중 A등급과 D등급의 체중의 평균의 차이(큰 값에서 작은 값의 차)를 구하여라  \n",
        "A6. 5.17"
      ],
      "metadata": {
        "id": "HceOAFbRZwlN"
      }
    },
    {
      "cell_type": "code",
      "source": [
        "df = df_org.copy()\n",
        "\n",
        "men_a = df.loc[(df['측정회원성별'] == 'F') & (df['등급'] =='A'), '체중 : kg'].mean()\n",
        "men_d = df.loc[(df['측정회원성별'] == 'F') & (df['등급'] =='D'), '체중 : kg'].mean()\n",
        "\n",
        "print(abs(men_a - men_d))"
      ],
      "metadata": {
        "id": "qZ-gmJ4TZzO7",
        "colab": {
          "base_uri": "https://localhost:8080/"
        },
        "outputId": "5540ce40-bdcb-41f0-95e0-d208d3b93c10"
      },
      "execution_count": 22,
      "outputs": [
        {
          "output_type": "stream",
          "name": "stdout",
          "text": [
            "5.176211590296504\n"
          ]
        }
      ]
    },
    {
      "cell_type": "markdown",
      "source": [
        "Q7. bmi는 자신의 몸무게(kg)를 키의 제곱(m)으로 나눈값이다. 데이터의 bmi 를 구한 새로운 컬럼을 만들고 남성의 bmi 평균을 구하여라  \n",
        "A7. 24.461"
      ],
      "metadata": {
        "id": "bKHHYssNZ0GW"
      }
    },
    {
      "cell_type": "code",
      "source": [
        "df = df_org.copy()\n",
        "\n",
        "df['bmi'] = df['체중 : kg'] / (df['신장 : cm']/100)**2\n",
        "result = df.loc[df['측정회원성별']=='M', 'bmi'].mean()\n",
        "\n",
        "print(result)"
      ],
      "metadata": {
        "id": "eIQfrD8cZ20K",
        "colab": {
          "base_uri": "https://localhost:8080/"
        },
        "outputId": "810c508c-ba13-4ed6-c2d5-e6666b7faf71"
      },
      "execution_count": 26,
      "outputs": [
        {
          "output_type": "stream",
          "name": "stdout",
          "text": [
            "24.46134409819308\n"
          ]
        }
      ]
    },
    {
      "cell_type": "markdown",
      "source": [
        "Q8. bmi보다 체지방율이 높은 사람들의 체중평균을 구하여라  \n",
        "A8. 61.740"
      ],
      "metadata": {
        "id": "2uTdlqDYZ3sK"
      }
    },
    {
      "cell_type": "code",
      "source": [
        "#df = df_org.copy()\n",
        "\n",
        "result = df.loc[df['체지방율 : %'] > df['bmi'], '체중 : kg'].mean()\n",
        "print(result)"
      ],
      "metadata": {
        "colab": {
          "base_uri": "https://localhost:8080/"
        },
        "id": "FKJZg11KA5aM",
        "outputId": "693c0cae-48d3-4faf-ab1f-e95f5f77f454"
      },
      "execution_count": 27,
      "outputs": [
        {
          "output_type": "stream",
          "name": "stdout",
          "text": [
            "61.7408806392542\n"
          ]
        }
      ]
    },
    {
      "cell_type": "markdown",
      "source": [
        "Q9. 남성과 여성의 악력 평균의 차이를 구하여라  \n",
        "A9. 17.55"
      ],
      "metadata": {
        "id": "6DnWE4NcZ5yw"
      }
    },
    {
      "cell_type": "code",
      "source": [
        "df = df_org.copy()\n",
        "\n",
        "grasp_mean = df['악력D : kg'].groupby(df['측정회원성별']).mean()\n",
        "result = abs(grasp_mean[0]-grasp_mean[1])\n",
        "print(result)"
      ],
      "metadata": {
        "id": "AEpqAIRsZ5UZ",
        "colab": {
          "base_uri": "https://localhost:8080/"
        },
        "outputId": "4076f23b-cc35-484b-a028-b1041a48c7c4"
      },
      "execution_count": 31,
      "outputs": [
        {
          "output_type": "stream",
          "name": "stdout",
          "text": [
            "17.55954185047465\n"
          ]
        }
      ]
    },
    {
      "cell_type": "markdown",
      "source": [
        "Q10.남성과 여성의 교차윗몸일으키기 횟수의 평균의 차이를 구하여라​  \n",
        "A10.14.24"
      ],
      "metadata": {
        "id": "GL74uTRjaCQC"
      }
    },
    {
      "cell_type": "code",
      "source": [
        "df = df_org.copy()\n",
        "\n",
        "grasp_mean = df['교차윗몸일으키기 : 회'].groupby(df['측정회원성별']).mean()\n",
        "result = abs(grasp_mean[0]-grasp_mean[1])\n",
        "print(result)"
      ],
      "metadata": {
        "id": "l88x-INDaDFo",
        "colab": {
          "base_uri": "https://localhost:8080/"
        },
        "outputId": "1d402db6-3587-47d5-b660-1f991278fcd8"
      },
      "execution_count": 33,
      "outputs": [
        {
          "output_type": "stream",
          "name": "stdout",
          "text": [
            "14.243156833157627\n"
          ]
        }
      ]
    }
  ]
}